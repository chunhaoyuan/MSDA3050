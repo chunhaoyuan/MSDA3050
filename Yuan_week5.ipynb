{
 "cells": [
  {
   "cell_type": "code",
   "execution_count": 49,
   "metadata": {},
   "outputs": [],
   "source": [
    "# Import libaries we need\n",
    "import numpy as np \n",
    "from numpy import genfromtxt\n",
    "import matplotlib.pyplot as plt\n",
    "import tensorflow.compat.v1 as tf\n",
    "tf.disable_v2_behavior()"
   ]
  },
  {
   "cell_type": "markdown",
   "metadata": {},
   "source": [
    "# Section 1) Problem description (0%)"
   ]
  },
  {
   "cell_type": "code",
   "execution_count": null,
   "metadata": {},
   "outputs": [],
   "source": [
    "# In this assignment you will get to practice with a very simple neural network implementation from scratch. \n",
    "# This neural network, will have to learn what the important features are in the data to produce the output. \n",
    "# In particular, this neural net will be given an input matrix of zeros and ones. The output to each sample will be a single one or zero. \n",
    "# The output will be determined by the number in the first feature column of the data samples."
   ]
  },
  {
   "cell_type": "markdown",
   "metadata": {},
   "source": [
    "# Section 2) This is your starting code for this assignment (20%)"
   ]
  },
  {
   "cell_type": "code",
   "execution_count": 50,
   "metadata": {},
   "outputs": [],
   "source": [
    "# Etract and fetch the data from: https://github.com/barnysanchez/clarku assignment4/raw/main/inputANDoutputs.csv\n",
    "# Utilize genfromtxt() function to load the data from a text file\n",
    "data = genfromtxt('https://github.com/barnysanchez/clarku-assignment4/raw/main/inputANDoutputs.csv',delimiter=',',skip_header=1)"
   ]
  },
  {
   "cell_type": "code",
   "execution_count": 81,
   "metadata": {},
   "outputs": [],
   "source": [
    "# Utilize tuple and slicing to capture the value from the data\n",
    "inputs = data[:, :-1]\n",
    "outputs = data[:,[-1]]"
   ]
  },
  {
   "cell_type": "code",
   "execution_count": 84,
   "metadata": {
    "scrolled": true
   },
   "outputs": [
    {
     "name": "stdout",
     "output_type": "stream",
     "text": [
      "[[0.99861388]]  Correct:  1\n",
      "[[0.00390941]]  Correct:  0\n"
     ]
    },
    {
     "data": {
      "image/png": "[encoded data removed]",
      "text/plain": [
       "<Figure size 1080x360 with 1 Axes>"
      ]
     },
     "metadata": {
      "needs_background": "light"
     },
     "output_type": "display_data"
    }
   ],
   "source": [
    "# create NeuralNetwork class\n",
    "class NeuralNetwork:\n",
    "\n",
    "    # intialize variables in class\n",
    "    def __init__(self, inputs, outputs):\n",
    "        self.inputs  = inputs\n",
    "        self.outputs = outputs\n",
    "        # initialize weights as .50 for simplicity\n",
    "        self.weights = np.array([[.50], [.50], [.50]])\n",
    "        self.error_history = []\n",
    "        self.epoch_list = []\n",
    "\n",
    "    #activation function ==> S(x) = 1/1+e^(-x)\n",
    "    def sigmoid(self, x, deriv=False):\n",
    "        if deriv == True:\n",
    "            return x * (1 - x)\n",
    "        return 1 / (1 + np.exp(-x))\n",
    "\n",
    "    # data will flow through the neural network.\n",
    "    def feed_forward(self):\n",
    "        self.hidden = self.sigmoid(np.dot(self.inputs, self.weights))\n",
    "\n",
    "    # going backwards through the network to update weights\n",
    "    def backpropagation(self):\n",
    "        self.error  = self.outputs - self.hidden\n",
    "        delta = self.error * self.sigmoid(self.hidden, deriv=True)\n",
    "        self.weights += np.dot(self.inputs.T, delta)\n",
    "\n",
    "    # train the neural net for 4500 iterations\n",
    "    def train(self, epochs = 4500):\n",
    "        for epoch in range(epochs):\n",
    "            # flow forward and produce an output\n",
    "            self.feed_forward()\n",
    "            # go back though the network to make corrections based on the output\n",
    "            self.backpropagation()    \n",
    "            # keep track of the error history over each epoch\n",
    "            self.error_history.append(np.average(np.abs(self.error)))\n",
    "            self.epoch_list.append(epoch)\n",
    "# function to predict output on new and unseen input data                               \n",
    "    def predict(self, new_input):\n",
    "        prediction = self.sigmoid(np.dot(new_input, self.weights))\n",
    "        return prediction\n",
    "\n",
    "# create neural network   \n",
    "NN = NeuralNetwork(inputs, outputs)\n",
    "# train neural network\n",
    "NN.train()\n",
    "\n",
    "# create examples to predict                                   \n",
    "ex = np.array([[1, 1, 0]])\n",
    "ex1 = np.array([[0, 1, 1]])\n",
    "\n",
    "# Print the predictions                                   \n",
    "print(NN.predict(ex), ' Correct: ', ex[0][0])\n",
    "print(NN.predict(ex1), ' Correct: ', ex1[0][0])\n",
    "\n",
    "# Plot training result\n",
    "plt.figure(figsize = (15,5))\n",
    "plt.hlines(y = 0.99, xmin = 0, xmax = len(NN.error_history), linewidth=1) \n",
    "plt.plot(NN.epoch_list,[1-error for error in NN.error_history])\n",
    "plt.xlabel('Epochs')\n",
    "plt.ylabel('Error')\n",
    "plt.show()"
   ]
  },
  {
   "cell_type": "code",
   "execution_count": null,
   "metadata": {},
   "outputs": [],
   "source": [
    "# According to the graph we can said that the accuracy is almost achieve 100% if we run more than 4000 epochs"
   ]
  },
  {
   "cell_type": "markdown",
   "metadata": {},
   "source": [
    "# Section 3) Determine the number of epochs needed to achieve 99% prediction accuracy. Manipulate the plot to clearly show this (35%)"
   ]
  },
  {
   "cell_type": "code",
   "execution_count": 85,
   "metadata": {},
   "outputs": [
    {
     "data": {
      "image/png": "[encoded data removed]",
      "text/plain": [
       "<Figure size 432x288 with 1 Axes>"
      ]
     },
     "metadata": {
      "needs_background": "light"
     },
     "output_type": "display_data"
    },
    {
     "name": "stdout",
     "output_type": "stream",
     "text": [
      "If we run [4057] epochs we can achieve 99% accuracy.\n"
     ]
    }
   ],
   "source": [
    "# Using np.diff to calculate the discrete difference along the axis\n",
    "# Using np.sign to get the sign of the number\n",
    "# Using np.argwhere to find out where is the non-zero value in our data\n",
    "x = np.arange(0, len(NN.epoch_list))\n",
    "y = np.array([0.99,] * len(NN.epoch_list))\n",
    "y1 = np.array([1-error for error in NN.error_history])\n",
    "index = np.argwhere(np.diff(np.sign( y - y1 )) != 0).reshape(-1) + 0\n",
    "plt.plot(x, y)\n",
    "plt.plot(x, y1)\n",
    "for i in range(len(index)):\n",
    "    plt.plot((x[index[i]] + x[index[i]+1]) / 2.,(y[index[i]] + y[index[i] + 1]) / 2., 'k*')\n",
    "plt.legend(['Line of 99% accuracy', 'Trendline'])\n",
    "plt.show()\n",
    "print(f\"If we run {x[index]} epochs we can achieve 99% accuracy.\")"
   ]
  },
  {
   "cell_type": "markdown",
   "metadata": {},
   "source": [
    "# Section 4) Change the prediction function to use a softmax activation function instead of sigmoid and determine the number of epochs needed to achieve 99% prediction accuracy with the new prediction function. Manipulate the plot to clearly show this (45%)"
   ]
  },
  {
   "cell_type": "code",
   "execution_count": 91,
   "metadata": {},
   "outputs": [
    {
     "name": "stdout",
     "output_type": "stream",
     "text": [
      "[[1.]]  Correct:  1\n",
      "[[1.]]  Correct:  0\n"
     ]
    },
    {
     "data": {
      "image/png": "[encoded data removed]",
      "text/plain": [
       "<Figure size 1080x360 with 1 Axes>"
      ]
     },
     "metadata": {
      "needs_background": "light"
     },
     "output_type": "display_data"
    }
   ],
   "source": [
    "class NeuralNetwork_softmax:\n",
    "\n",
    "    # intialize variables in class\n",
    "    def __init__(self, inputs, outputs):\n",
    "        self.inputs  = inputs\n",
    "        self.outputs = outputs\n",
    "        # initialize weights as .50 for simplicity\n",
    "        self.weights = np.array([[.50], [.50], [.50]])\n",
    "        self.error_history = []\n",
    "        self.epoch_list = []\n",
    "\n",
    "    # activation function ==> exp(logits) / reduce_sum(exp(logits), dim)\n",
    "    def softmax(self, x, deriv=False):\n",
    "        if deriv == True:\n",
    "            return x * (1 - x)\n",
    "        e = np.exp(x)\n",
    "        return e / e.sum()\n",
    "\n",
    "    # data will flow through the neural network.\n",
    "    def feed_forward(self):\n",
    "        self.hidden = self.softmax(np.dot(self.inputs, self.weights))\n",
    "\n",
    "    # going backwards through the network to update weights\n",
    "    def backpropagation(self):\n",
    "        self.error  = self.outputs - self.hidden\n",
    "        delta = self.error * self.softmax(self.hidden, deriv=True)\n",
    "        self.weights += np.dot(self.inputs.T, delta)\n",
    "\n",
    "    # train the neural net for 4500 iterations\n",
    "    def train(self, epochs = 4500):\n",
    "        for epoch in range(epochs):\n",
    "            # flow forward and produce an output\n",
    "            self.feed_forward()\n",
    "            # go back though the network to make corrections based on the output\n",
    "            self.backpropagation()    \n",
    "            # keep track of the error history over each epoch\n",
    "            self.error_history.append(np.average(np.abs(self.error)))\n",
    "            self.epoch_list.append(epoch)\n",
    "\n",
    "    # function to predict output on new and unseen input data                               \n",
    "    def predict(self, new_input):\n",
    "        prediction = self.softmax(np.dot(new_input, self.weights))\n",
    "        return prediction\n",
    "# create neural network   \n",
    "NN = NeuralNetwork_softmax(inputs, outputs)\n",
    "# train neural network\n",
    "NN.train()\n",
    "\n",
    "# create examples to predict                                   \n",
    "ex = np.array([[1, 1, 0]])\n",
    "ex1 = np.array([[0, 1, 1]])\n",
    "\n",
    "# Print the predictions                                   \n",
    "print(NN.predict(ex), ' Correct: ', ex[0][0])\n",
    "print(NN.predict(ex1), ' Correct: ', ex1[0][0])\n",
    "\n",
    "# Plot training result\n",
    "plt.figure(figsize=(15,5))\n",
    "plt.hlines(y = 0.99, xmin = 0, xmax = len(NN.error_history), linewidth = 1) \n",
    "plt.plot(NN.epoch_list,[1-error for error in NN.error_history])\n",
    "plt.xlabel('Epochs')\n",
    "plt.ylabel('Error')\n",
    "plt.legend(['Trendline', 'Line of 99% accuracy'])\n",
    "plt.show()"
   ]
  },
  {
   "cell_type": "code",
   "execution_count": null,
   "metadata": {},
   "outputs": [],
   "source": [
    "# According to the training result we can see the accuracy remain at 75%\n",
    "# Which means we still have 25% error need to improve (1 - 0.75 = 0.25)\n",
    "# Therefore, I think softmax is not the suitable method to get the best prediction in this case"
   ]
  },
  {
   "cell_type": "code",
   "execution_count": 92,
   "metadata": {},
   "outputs": [],
   "source": [
    "# Try to use tensorflow to predict\n",
    "output = np.array([[1,0], [1,0], [0,1], [0,1]])"
   ]
  },
  {
   "cell_type": "code",
   "execution_count": 93,
   "metadata": {},
   "outputs": [],
   "source": [
    "xx = tf.placeholder(tf.float32, [None, 3])\n",
    "yy = tf.placeholder(tf.float32, [None, 2])\n",
    "number_classes = 2"
   ]
  },
  {
   "cell_type": "code",
   "execution_count": 94,
   "metadata": {},
   "outputs": [],
   "source": [
    "bias = tf.Variable(tf.random_normal([nb_classes]), name='bias')\n",
    "weight = tf.Variable(tf.random_normal([3, nb_classes]), name='weight')"
   ]
  },
  {
   "cell_type": "code",
   "execution_count": 95,
   "metadata": {},
   "outputs": [],
   "source": [
    "# Utilize tf.nn.softmax to sum all the outputs that generated by softmax\n",
    "hyp = tf.nn.softmax(tf.matmul(xx, weight) + bias)\n",
    "loss = tf.reduce_mean(-tf.reduce_sum(yy * tf.log(hyp), axis = 1))\n",
    "opt = tf.train.GradientDescentOptimizer(learning_rate = 0.1).minimize(loss)"
   ]
  },
  {
   "cell_type": "code",
   "execution_count": 103,
   "metadata": {},
   "outputs": [
    {
     "name": "stdout",
     "output_type": "stream",
     "text": [
      "0 0.7184946\n",
      "100 0.15296192\n",
      "200 0.090246856\n",
      "300 0.06411319\n",
      "400 0.04975153\n",
      "500 0.040656436\n",
      "600 0.034375507\n",
      "700 0.029776238\n",
      "800 0.026262384\n",
      "900 0.023490308\n",
      "1000 0.021247363\n",
      "1100 0.019395275\n",
      "1200 0.017840073\n",
      "1300 0.016515687\n",
      "1400 0.015374244\n",
      "1500 0.01438037\n",
      "1600 0.013507202\n",
      "1700 0.012733923\n",
      "1800 0.01204439\n",
      "1900 0.011425684\n",
      "2000 0.010867449\n",
      "2100 0.010361203\n",
      "2200 0.009900035\n",
      "2300 0.009478151\n",
      "2400 0.009090787\n"
     ]
    }
   ],
   "source": [
    "# List the epochs and the prediction\n",
    "with tf.Session() as sess:\n",
    "    sess.run(tf.global_variables_initializer())\n",
    "    for epoch in range(2500):\n",
    "        sess.run(opt, feed_dict={xx: inputs, yy: output})\n",
    "        if epoch % 100 == 0:\n",
    "            print(epoch, sess.run(loss, feed_dict={xx: inputs, yy: output}))"
   ]
  },
  {
   "cell_type": "code",
   "execution_count": null,
   "metadata": {},
   "outputs": [],
   "source": [
    "# According to the result we can said that if we run 2200 epochs we can achieve 99% accuracy of the prediction."
   ]
  }
 ],
 "metadata": {
  "kernelspec": {
   "display_name": "Python 3",
   "language": "python",
   "name": "python3"
  },
  "language_info": {
   "codemirror_mode": {
    "name": "ipython",
    "version": 3
   },
   "file_extension": ".py",
   "mimetype": "text/x-python",
   "name": "python",
   "nbconvert_exporter": "python",
   "pygments_lexer": "ipython3",
   "version": "3.8.5"
  }
 },
 "nbformat": 4,
 "nbformat_minor": 4
}
